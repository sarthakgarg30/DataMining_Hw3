{
 "cells": [
  {
   "cell_type": "code",
   "execution_count": 1,
   "id": "e23d1284",
   "metadata": {},
   "outputs": [],
   "source": [
    "import numpy as np\n",
    "import pandas as pd"
   ]
  },
  {
   "cell_type": "code",
   "execution_count": 2,
   "id": "7cc5061c",
   "metadata": {},
   "outputs": [],
   "source": [
    "data = pd.read_csv('E:\\DM\\kmeans_data\\data.csv')\n",
    "label = pd.read_csv('E:\\DM\\kmeans_data\\label.csv')"
   ]
  },
  {
   "cell_type": "code",
   "execution_count": 4,
   "id": "06c7171e",
   "metadata": {},
   "outputs": [],
   "source": [
    "def euclidean_distance(a, b):\n",
    "    return np.linalg.norm(a - b)\n",
    "\n",
    "def cosine_distance(a, b):\n",
    "    cosine_similarity = np.dot(a, b) / (np.linalg.norm(a) * np.linalg.norm(b))\n",
    "    return 1 - cosine_similarity\n",
    "\n",
    "def jaccard_distance(a, b):\n",
    "    intersection = np.minimum(a, b).sum()\n",
    "    union = np.maximum(a, b).sum()\n",
    "    jaccard_similarity = intersection / union\n",
    "    return 1 - jaccard_similarity"
   ]
  },
  {
   "cell_type": "code",
   "execution_count": 5,
   "id": "3669ff78",
   "metadata": {},
   "outputs": [],
   "source": [
    "def assign_clusters(X, centroids, distance_func):\n",
    "    clusters = []\n",
    "    for x in X:\n",
    "        distances = [distance_func(x, centroid) for centroid in centroids]\n",
    "        closest = np.argmin(distances)\n",
    "        clusters.append(closest)\n",
    "    return np.array(clusters)\n",
    "\n",
    "def update_centroids(X, clusters, k):\n",
    "    new_centroids = np.array([X[clusters == i].mean(axis=0) for i in range(k)])\n",
    "    return new_centroids"
   ]
  },
  {
   "cell_type": "code",
   "execution_count": 6,
   "id": "8699d7ca",
   "metadata": {},
   "outputs": [],
   "source": [
    "def calculate_sse(X, centroids, clusters, distance_func):\n",
    "    sse = 0\n",
    "    for i, centroid in enumerate(centroids):\n",
    "        sse += np.sum([distance_func(x, centroid) ** 2 for x in X[clusters == i]])\n",
    "    return sse\n"
   ]
  },
  {
   "cell_type": "code",
   "execution_count": 7,
   "id": "efd80f8e",
   "metadata": {},
   "outputs": [],
   "source": [
    "def kmeans(X, k, distance_func, max_iters=100):\n",
    "    indices = np.random.choice(len(X), k, replace=False)\n",
    "    centroids = X[indices]\n",
    "\n",
    "    for _ in range(max_iters):\n",
    "        clusters = assign_clusters(X, centroids, distance_func)\n",
    "        new_centroids = update_centroids(X, clusters, k)\n",
    "\n",
    "        if np.all(centroids == new_centroids):\n",
    "            break\n",
    "\n",
    "        centroids = new_centroids\n",
    "\n",
    "    sse = calculate_sse(X, centroids, clusters, distance_func)\n",
    "    return centroids, clusters, sse\n"
   ]
  },
  {
   "cell_type": "code",
   "execution_count": 11,
   "id": "104c7afe",
   "metadata": {},
   "outputs": [
    {
     "name": "stdout",
     "output_type": "stream",
     "text": [
      "SSE Euclidean: 25371934362.58509, SSE Cosine: 687.405925556465, SSE Jaccard: 3660.810730806501\n"
     ]
    }
   ],
   "source": [
    "X = data.to_numpy()\n",
    "k = len(np.unique(label))\n",
    "\n",
    "labels =  label.to_numpy()\n",
    "labels =  labels.flatten()\n",
    "\n",
    "centroids_euclidean, clusters_euclidean, sse_euclidean = kmeans(X, k, euclidean_distance)\n",
    "centroids_cosine, clusters_cosine, sse_cosine = kmeans(X, k, cosine_distance)\n",
    "centroids_jaccard, clusters_jaccard, sse_jaccard = kmeans(X, k, jaccard_distance)\n",
    "\n",
    "print(f\"SSE Euclidean: {sse_euclidean}, SSE Cosine: {sse_cosine}, SSE Jaccard: {sse_jaccard}\")"
   ]
  },
  {
   "cell_type": "code",
   "execution_count": 13,
   "id": "5e6ed066",
   "metadata": {},
   "outputs": [],
   "source": [
    "def label_clusters_with_majority_vote(clusters, actual_labels):\n",
    "    \n",
    "    unique_clusters = np.unique(clusters)\n",
    "    cluster_labels = {}\n",
    "    for cluster in unique_clusters:\n",
    "        # Find the indices of points in this cluster\n",
    "        indices = np.where(clusters == cluster)[0]\n",
    "        # Find the actual labels of these points\n",
    "        labels_in_cluster = actual_labels[indices]\n",
    "        # Determine the majority label\n",
    "        majority_label = np.bincount(labels_in_cluster).argmax()\n",
    "        cluster_labels[cluster] = majority_label\n",
    "\n",
    "    # Map the cluster assignments to the predicted labels\n",
    "    predicted_labels = np.array([cluster_labels[cluster] for cluster in clusters])\n",
    "\n",
    "    return cluster_labels, predicted_labels"
   ]
  },
  {
   "cell_type": "code",
   "execution_count": 14,
   "id": "7fa8b327",
   "metadata": {},
   "outputs": [],
   "source": [
    "def calculate_accuracy(predicted_labels, actual_labels):\n",
    "    correct_predictions = np.sum(predicted_labels == actual_labels)\n",
    "    accuracy = correct_predictions / len(actual_labels)\n",
    "    return accuracy\n"
   ]
  },
  {
   "cell_type": "code",
   "execution_count": 17,
   "id": "e72020a9",
   "metadata": {},
   "outputs": [
    {
     "name": "stdout",
     "output_type": "stream",
     "text": [
      "Accuracy Euclidean: 0.590959095909591\n",
      "Accuracy Cosine: 0.5777577757775778\n",
      "Accuracy Jaccard: 0.6051605160516051\n"
     ]
    }
   ],
   "source": [
    "actual_labels_array = np.array(labels)\n",
    "\n",
    "_, predicted_labels_euclidean = label_clusters_with_majority_vote(clusters_euclidean, actual_labels_array)\n",
    "accuracy_euclidean = calculate_accuracy(predicted_labels_euclidean, actual_labels_array)\n",
    "\n",
    "_, predicted_labels_cosine = label_clusters_with_majority_vote(clusters_cosine, actual_labels_array)\n",
    "accuracy_cosine = calculate_accuracy(predicted_labels_cosine, actual_labels_array)\n",
    "\n",
    "_, predicted_labels_jaccard = label_clusters_with_majority_vote(clusters_jaccard, actual_labels_array)\n",
    "accuracy_jaccard = calculate_accuracy(predicted_labels_jaccard, actual_labels_array)\n",
    "\n",
    "print(f\"Accuracy Euclidean: {accuracy_euclidean}\")\n",
    "print(f\"Accuracy Cosine: {accuracy_cosine}\")\n",
    "print(f\"Accuracy Jaccard: {accuracy_jaccard}\")"
   ]
  },
  {
   "cell_type": "code",
   "execution_count": 18,
   "id": "0232fe17",
   "metadata": {},
   "outputs": [
    {
     "name": "stdout",
     "output_type": "stream",
     "text": [
      "\n",
      "Stopping Criterion: no change in centroid position\n",
      "\n",
      "Euclidean-K-means:\n",
      "Number of iterations: 32, Time: 33.3432 seconds\n",
      "\n",
      "Cosine-K-means:\n",
      "Number of iterations: 40, Time: 70.7823 seconds\n",
      "\n",
      "Jaccard-K-means:\n",
      "Number of iterations: 38, Time: 62.0698 seconds\n",
      "\n",
      "\n",
      "Stopping Criterion: SSE increase\n",
      "\n",
      "Euclidean-K-means:\n",
      "Number of iterations: 90, Time: 95.9069 seconds\n",
      "\n",
      "Cosine-K-means:\n",
      "Number of iterations: 24, Time: 41.6197 seconds\n",
      "\n",
      "Jaccard-K-means:\n",
      "Number of iterations: 45, Time: 70.6517 seconds\n",
      "\n",
      "\n",
      "Stopping Criterion: max iterations\n",
      "\n",
      "Euclidean-K-means:\n",
      "Number of iterations: 33, Time: 33.2128 seconds\n",
      "\n",
      "Cosine-K-means:\n",
      "Number of iterations: 60, Time: 101.1330 seconds\n",
      "\n",
      "Jaccard-K-means:\n",
      "Number of iterations: 16, Time: 25.1969 seconds\n",
      "\n"
     ]
    }
   ],
   "source": [
    "import time\n",
    "\n",
    "\n",
    "def kmeans_with_stop_criteria(X, k, distance_func, max_iters=500):\n",
    "    indices = np.random.choice(len(X), k, replace=False)\n",
    "    centroids = X[indices]\n",
    "    prev_sse = float('inf')  \n",
    "\n",
    "    start_time = time.time() \n",
    "\n",
    "    for iter_count in range(max_iters):\n",
    "        clusters = assign_clusters(X, centroids, distance_func)\n",
    "        new_centroids = update_centroids(X, clusters, k)\n",
    "        sse = calculate_sse(X, new_centroids, clusters, distance_func)\n",
    "\n",
    "        if np.all(centroids == new_centroids) or sse > prev_sse:\n",
    "            break  \n",
    "\n",
    "        centroids = new_centroids\n",
    "        prev_sse = sse\n",
    "\n",
    "    end_time = time.time()  \n",
    "    elapsed_time = end_time - start_time  \n",
    "\n",
    "    return iter_count + 1, elapsed_time \n",
    "\n",
    "\n",
    "\n",
    "X = data.to_numpy()\n",
    "\n",
    "\n",
    "actual_labels_array = np.array(label).flatten()\n",
    "\n",
    "stopping_criteria = [\"no change in centroid position\", \"SSE increase\", \"max iterations\"]\n",
    "\n",
    "\n",
    "for criterion in stopping_criteria:\n",
    "    print(f\"\\nStopping Criterion: {criterion}\\n\")\n",
    "\n",
    "    for distance_metric, distance_func in [(\"Euclidean\", euclidean_distance), (\"Cosine\", cosine_distance), (\"Jaccard\", jaccard_distance)]:\n",
    "        print(f\"{distance_metric}-K-means:\")\n",
    "        iterations, elapsed_time = kmeans_with_stop_criteria(X, len(np.unique(actual_labels_array)), distance_func)\n",
    "        print(f\"Number of iterations: {iterations}, Time: {elapsed_time:.4f} seconds\\n\")\n"
   ]
  },
  {
   "cell_type": "code",
   "execution_count": null,
   "id": "8d1582e3",
   "metadata": {},
   "outputs": [
    {
     "name": "stdout",
     "output_type": "stream",
     "text": [
      "\n",
      "Stopping Criterion: no change in centroid position\n",
      "\n",
      "Euclidean-K-means:\n",
      "Number of iterations: 34, SSE values: [28420211159.216484, 26605178270.717316, 25902138675.83836, 25634085635.19388, 25543402739.539837, 25502018560.09479, 25472454612.31508, 25443270032.890617, 25413416219.97212, 25392079327.983307, 25374127080.14258, 25361632027.257126, 25351038006.688065, 25338523769.787064, 25329223247.134476, 25322589815.72025, 25319883612.07451, 25319450482.183903, 25319156560.229828, 25319065506.401, 25318988697.091522, 25318921010.788, 25318846013.75264, 25318776907.8863, 25318722534.2281, 25318689077.87569, 25318658988.46115, 25318573502.29721, 25318507621.240017, 25318485415.85327, 25318471840.848724, 25318463934.93203, 25318458028.20375, 25318458028.20375]\n",
      "\n",
      "Cosine-K-means:\n",
      "Number of iterations: 18, SSE values: [873.7885014716987, 765.6930045880512, 739.1148012765888, 727.2160770443601, 719.1109251600914, 709.3348051858475, 697.0575888463934, 688.1360081384299, 685.0258191160904, 683.3507857378878, 682.6323429764215, 682.2490877477338, 682.1359395208948, 682.0842457207758, 682.0747567210643, 682.0371950051591, 681.9951887628802, 682.0037973462173]\n",
      "\n",
      "Jaccard-K-means:\n",
      "Number of iterations: 38, SSE values: [4358.912598764146, 4085.143474302117, 3954.0091564939794, 3829.968834916133, 3756.3124822350437, 3732.460835683342, 3717.5761098008024, 3704.994928407205, 3694.219645567571, 3686.315168753777, 3681.4726147423194, 3678.6766062313955, 3677.4217189908954, 3676.5851165640215, 3676.2300627421696, 3675.6707791326407, 3675.346457392257, 3674.8361516873283, 3674.2169781201064, 3673.9584510796417, 3673.2117215302583, 3672.8605162404556, 3672.7437832954547, 3672.5092582917637, 3672.20814612838, 3671.590335092167, 3670.985179464369, 3669.958310883946, 3669.4425316891093, 3668.7795096815203, 3668.335357046519, 3667.826789812447, 3666.746538778314, 3665.809830246435, 3665.4015321556917, 3665.227121769013, 3664.7335119323798, 3664.7907100421453]\n",
      "\n",
      "\n",
      "Stopping Criterion: SSE increase\n",
      "\n",
      "Euclidean-K-means:\n",
      "Number of iterations: 88, SSE values: [28897177007.19768, 27057130202.727592, 26341850783.665718, 25945630534.486942, 25745087526.834568, 25584795154.11044, 25474557816.030964, 25430225621.373447, 25414096574.70608, 25404072664.60257, 25394938253.917164, 25385987122.794804, 25380542404.574512, 25375892090.86551, 25370925889.02976, 25365724667.429924, 25361576333.25937, 25358767433.669735, 25356445141.164448, 25354793960.630924, 25353855828.921005, 25353093166.14963, 25352407707.74128, 25351912215.35067, 25351574267.669815, 25351287223.110886, 25350866910.453632, 25350390826.04412, 25349921315.234062, 25349281672.38724, 25347992770.60401, 25346530689.984097, 25345600544.998543, 25344746744.08265, 25344042071.6335, 25343587975.27269, 25343011910.61233, 25342336178.720657, 25341783614.43967, 25341268362.381615, 25340769735.85437, 25340109375.854393, 25339039282.443947, 25338004569.98919, 25336810388.849274, 25335515810.72754, 25334362183.992203, 25333109645.083122, 25332175452.731743, 25331480035.724106, 25330778714.864975, 25329684774.09814, 25327991036.70445, 25326694495.453026, 25325801185.992676, 25325102789.72339, 25324519558.95858, 25324191715.80442, 25323972034.10362, 25323888549.69891, 25323764130.31923, 25323687394.147, 25323636014.056953, 25323572559.470844, 25323466014.923004, 25323349510.99945, 25323204430.82709, 25323067672.87079, 25322921328.9238, 25322695961.769966, 25322332170.38209, 25321796813.20034, 25321214942.648163, 25320585868.147022, 25320195961.797604, 25320079415.436085, 25320017121.67654, 25319984011.14938, 25319919125.27056, 25319830115.807056, 25319710330.143013, 25319641170.58094, 25319607750.550304, 25319534514.011547, 25319505039.99213, 25319488967.771812, 25319479394.53656, 25319479394.53656]\n",
      "\n",
      "Cosine-K-means:\n",
      "Number of iterations: 32, SSE values: [872.2357804771875, 760.1687558827058, 740.8361812887865, 732.8848491269755, 726.1993327234522, 719.6292321292372, 715.7983301833158, 713.0072862781008, 709.9534210541492, 706.8871200191861, 704.3725308390258, 702.5917851608216, 700.6351798993803, 698.80852180316, 697.418299776401, 696.4350380824104, 695.4863076188346, 694.3610686325869, 693.4668841389569, 692.7820301939923, 692.0773891070864, 691.3923997205577, 690.5864376184603, 689.9425344082931, 689.3370177260709, 688.9590132927176, 688.6780076209441, 688.4073098755624, 688.2576287791863, 688.1540412585641, 688.1276258560608, 688.1356607903498]\n",
      "\n",
      "Jaccard-K-means:\n",
      "Number of iterations: 40, SSE values: [4032.89227992984, 3846.9037241075976, 3779.6405756002832, 3759.3556618509124, 3753.271652798512, 3750.025892638299, 3747.723292337656, 3746.2391613315476, 3744.6451309822364, 3742.9628499128066, 3741.8343021879705, 3739.9692670041854, 3739.0622597000574, 3738.5309850083167, 3737.3422690204075, 3736.171218708503, 3734.5077597727873, 3732.945604937526, 3731.794164848572, 3730.7165738017165, 3729.956021126345, 3728.736694551459, 3727.9524093569707, 3727.6295053385684, 3726.5381659352197, 3725.859112067647, 3725.2402371710127, 3724.1072176345215, 3723.2811447779522, 3722.919552487275, 3722.3059093474612, 3721.591206840721, 3720.595560935502, 3719.8555172369097, 3719.1090635947735, 3718.413806494822, 3717.862045865261, 3717.530199778622, 3717.281615666254, 3717.2895267668882]\n",
      "\n",
      "\n",
      "Stopping Criterion: max iterations\n",
      "\n",
      "Euclidean-K-means:\n",
      "Number of iterations: 45, SSE values: [28914099592.531994, 27242084771.094627, 26514228025.427452, 26103866541.506298, 25836576132.39692, 25686063065.664757, 25610856114.186092, 25570215139.22782, 25546711169.436367, 25533506719.10235, 25523314398.421837, 25512496191.464775, 25503733761.74806, 25494893235.694748, 25484766482.378414, 25474002297.691807, 25466021720.25766, 25461821671.343716, 25459718245.036842, 25458481231.819054, 25457587184.5326, 25456637065.108856, 25455703005.978477, 25454542752.62384, 25453467893.195694, 25452508965.261497, 25451522985.67881, 25449811331.89646, 25448513896.634533, 25447481846.739754, 25446484465.96759, 25445735680.302555, 25445274885.523563, 25444963860.73076, 25444753349.467155, 25444604600.40651, 25444531375.20231, 25444411581.935555, 25444199902.51185, 25444100792.88225, 25444069999.350517, 25444036370.137238, 25444021999.0431, 25444008340.110973, 25444008340.110973]\n",
      "\n",
      "Cosine-K-means:\n"
     ]
    }
   ],
   "source": [
    "def kmeans_with_stop_criteria(X, k, distance_func, max_iters=100):\n",
    "    indices = np.random.choice(len(X), k, replace=False)\n",
    "    centroids = X[indices]\n",
    "    prev_sse = float('inf')  \n",
    "    sse_values = [] \n",
    "\n",
    "    for iter_count in range(max_iters):\n",
    "        clusters = assign_clusters(X, centroids, distance_func)\n",
    "        new_centroids = update_centroids(X, clusters, k)\n",
    "        sse = calculate_sse(X, new_centroids, clusters, distance_func)\n",
    "        sse_values.append(sse)  \n",
    "\n",
    "        if np.all(centroids == new_centroids):\n",
    "            break \n",
    "\n",
    "        if sse > prev_sse:\n",
    "            break  \n",
    "\n",
    "        centroids = new_centroids\n",
    "        prev_sse = sse\n",
    "\n",
    "    return sse_values, iter_count + 1 \n",
    "\n",
    "\n",
    "# Define stopping criteria\n",
    "stopping_criteria = [\"no change in centroid position\", \"SSE increase\", \"max iterations\"]\n",
    "\n",
    "for criterion in stopping_criteria:\n",
    "    print(f\"\\nStopping Criterion: {criterion}\\n\")\n",
    "\n",
    "    for distance_metric, distance_func in [(\"Euclidean\", euclidean_distance), (\"Cosine\", cosine_distance), (\"Jaccard\", jaccard_distance)]:\n",
    "        print(f\"{distance_metric}-K-means:\")\n",
    "        sse_values, iterations = kmeans_with_stop_criteria(X, len(np.unique(labels)), distance_func)\n",
    "        print(f\"Number of iterations: {iterations}, SSE values: {sse_values}\\n\")\n"
   ]
  }
 ],
 "metadata": {
  "kernelspec": {
   "display_name": "Python 3 (ipykernel)",
   "language": "python",
   "name": "python3"
  },
  "language_info": {
   "codemirror_mode": {
    "name": "ipython",
    "version": 3
   },
   "file_extension": ".py",
   "mimetype": "text/x-python",
   "name": "python",
   "nbconvert_exporter": "python",
   "pygments_lexer": "ipython3",
   "version": "3.11.4"
  }
 },
 "nbformat": 4,
 "nbformat_minor": 5
}
